{
 "cells": [
  {
   "cell_type": "code",
   "execution_count": null,
   "metadata": {},
   "outputs": [],
   "source": [
    "from numbalsoda import lsoda_sig, lsoda, rk45\n",
    "from numba import njit, cfunc\n",
    "from scipy.integrate import solve_ivp \n",
    "import numpy as np\n",
    "from matplotlib import pyplot as plt"
   ]
  },
  {
   "cell_type": "code",
   "execution_count": null,
   "metadata": {},
   "outputs": [],
   "source": [
    "@cfunc(lsoda_sig)\n",
    "def f(t, u, du, p):\n",
    "    du[0] = u[0]-u[0]*u[1]\n",
    "    du[1] = u[0]*u[1]-u[1]\n",
    "\n",
    "@njit\n",
    "def f_scipy(t, u):\n",
    "    return np.array([u[0]-u[0]*u[1],u[0]*u[1]-u[1]])"
   ]
  },
  {
   "cell_type": "code",
   "execution_count": null,
   "metadata": {},
   "outputs": [],
   "source": [
    "funcptr = f.address\n",
    "u0 = np.array([5., 0.8])\n",
    "data = np.array([1.0])\n",
    "t0 = 0.0\n",
    "tf = 50.0\n",
    "itf = 1000\n",
    "t_eval = np.linspace(t0, tf, itf)"
   ]
  },
  {
   "cell_type": "code",
   "execution_count": null,
   "metadata": {},
   "outputs": [],
   "source": [
    "usol, success = lsoda(funcptr, u0, t_eval, data)"
   ]
  },
  {
   "cell_type": "code",
   "execution_count": null,
   "metadata": {},
   "outputs": [],
   "source": []
  },
  {
   "cell_type": "code",
   "execution_count": null,
   "metadata": {},
   "outputs": [],
   "source": [
    "plt.rcParams.update({'font.size': 15})\n",
    "fig,ax = plt.subplots(1,1,figsize=[7,5])\n",
    "\n",
    "ax.plot(t_eval,usol[:,0],label='u1')\n",
    "ax.plot(t_eval,usol[:,1],label='u2')\n",
    "ax.legend()\n",
    "ax.set_xlabel('t')\n",
    "\n",
    "plt.show()"
   ]
  },
  {
   "cell_type": "code",
   "execution_count": null,
   "metadata": {},
   "outputs": [],
   "source": []
  },
  {
   "cell_type": "code",
   "execution_count": null,
   "metadata": {},
   "outputs": [],
   "source": [
    "# Check that numbalsoda and scipy match for the hybrid LSODA solver.\n",
    "\n",
    "# numbalsoda\n",
    "usol, success = lsoda(funcptr, u0, t_eval, data, rtol = 1e-9, atol = 1e-30)\n",
    "\n",
    "# scipy\n",
    "t_span = [t0, tf]\n",
    "sol = solve_ivp(f_scipy, t_span, u0, t_eval = t_eval,\\\n",
    "                rtol = 1e-9, atol = 1e-30, method='LSODA')\n",
    "print(np.all(np.isclose(sol.y.T,usol)))"
   ]
  },
  {
   "cell_type": "code",
   "execution_count": null,
   "metadata": {},
   "outputs": [],
   "source": [
    "# Check that numbalsoda and scipy match for the RK45 explicit solver.\n",
    "\n",
    "# numbalsoda\n",
    "tsol, usol, _, success = rk45(\n",
    "    funcptr, u0, -1.0, t0, tf, 200, data, rtol = 1e-9, atol = 1e-30\n",
    ")\n",
    "\n",
    "# scipy\n",
    "t_span = [t0, tf]\n",
    "sol = solve_ivp(f_scipy, t_span, u0, t_eval=tsol,\\\n",
    "                rtol = 1e-9, atol = 1e-30, method='RK45')\n",
    "print(np.all(np.isclose(sol.y.T,usol)))"
   ]
  },
  {
   "cell_type": "code",
   "execution_count": null,
   "metadata": {},
   "outputs": [],
   "source": []
  },
  {
   "cell_type": "code",
   "execution_count": null,
   "metadata": {},
   "outputs": [],
   "source": [
    "t_nb_lsoda = %timeit -o usol, success = lsoda(funcptr, u0, t_eval, data, rtol = 1e-6, atol = 1e-30)\n",
    "t_sp = %timeit -o sol = solve_ivp(f_scipy, t_span, u0, t_eval = t_eval,\\\n",
    "                                  rtol = 1e-6, atol = 1e-30, method='LSODA')\n",
    "\n",
    "print(\"\\nscipy took \"+'%i'%(t_sp.average/t_nb_lsoda.average)+\" times longer than numbalsoda (LSODA integration)\")"
   ]
  },
  {
   "cell_type": "code",
   "execution_count": null,
   "metadata": {},
   "outputs": [],
   "source": [
    "t_nb_rk45 = %timeit -o tsol, usol, _, success = rk45(funcptr, u0, -1.0, t0, tf, 200, data, rtol = 1e-6, atol = 1e-30)\n",
    "t_sp = %timeit -o sol = solve_ivp(f_scipy, t_span, u0, t_eval = tsol,\\\n",
    "                                  rtol = 1e-6, atol = 1e-30, method='RK45')\n",
    "\n",
    "print(\"\\nscipy took \"+'%i'%(t_sp.average/t_nb_rk45.average)+\" times longer than numbalsoda (RK45 integration)\")"
   ]
  },
  {
   "cell_type": "code",
   "execution_count": null,
   "metadata": {},
   "outputs": [],
   "source": []
  },
  {
   "cell_type": "code",
   "execution_count": null,
   "metadata": {},
   "outputs": [],
   "source": [
    "# numbalsoda within jit compiled function works\n",
    "@njit\n",
    "def test():\n",
    "    usol, success = lsoda(funcptr, u0, t_eval, data)\n",
    "    return usol\n",
    "test()"
   ]
  },
  {
   "cell_type": "code",
   "execution_count": null,
   "metadata": {},
   "outputs": [],
   "source": [
    "# scipy within jit compiled function does not work\n",
    "@njit\n",
    "def test_sp():\n",
    "    sol = solve_ivp(f_scipy, t_span, u0, t_eval = t_eval, method='LSODA')\n",
    "    return sol\n",
    "test_sp()"
   ]
  },
  {
   "cell_type": "code",
   "execution_count": null,
   "metadata": {},
   "outputs": [],
   "source": []
  }
 ],
 "metadata": {
  "kernelspec": {
   "display_name": "Python 3.10.8 64-bit",
   "language": "python",
   "name": "python3"
  },
  "language_info": {
   "codemirror_mode": {
    "name": "ipython",
    "version": 3
   },
   "file_extension": ".py",
   "mimetype": "text/x-python",
   "name": "python",
   "nbconvert_exporter": "python",
   "pygments_lexer": "ipython3",
   "version": "3.10.8"
  },
  "vscode": {
   "interpreter": {
    "hash": "b0fa6594d8f4cbf19f97940f81e996739fb7646882a419484c72d19e05852a7e"
   }
  }
 },
 "nbformat": 4,
 "nbformat_minor": 4
}
